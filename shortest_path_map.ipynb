{
  "cells": [
    {
      "cell_type": "code",
      "execution_count": null,
      "metadata": {
        "colab": {
          "base_uri": "https://localhost:8080/"
        },
        "id": "3rYRGJqYXubV",
        "outputId": "d8305563-7ee3-49ce-ebe2-162b712e4cdf"
      },
      "outputs": [],
      "source": [
        "!pip install osmnx"
      ]
    },
    {
      "cell_type": "code",
      "execution_count": 5,
      "metadata": {
        "id": "u1_eVEBqjjjx"
      },
      "outputs": [],
      "source": [
        "import osmnx as ox\n",
        "import sys\n",
        "from queue import PriorityQueue\n",
        "import folium\n",
        "\n",
        "# 춘천의 도로 네트워크 데이터를 가져오기\n",
        "location = \"Chuncheon, South Korea\"\n",
        "G = ox.graph_from_place(location, network_type=\"drive\")\n",
        "\n",
        "# 인접 리스트 형태로 그래프 변환\n",
        "V = len(G.nodes)\n",
        "node_mapping = {node: idx for idx, node in enumerate(G.nodes)}\n",
        "reverse_mapping = {idx: node for node, idx in node_mapping.items()}\n",
        "\n",
        "myList = [[] for _ in range(V)]\n",
        "for u, v, data in G.edges(data=True):\n",
        "    weight = data.get(\"length\", 1)  # 거리 또는 가중치\n",
        "    myList[node_mapping[u]].append((node_mapping[v], weight))\n",
        "    myList[node_mapping[v]].append((node_mapping[u], weight))  # 양방향 그래프\n",
        "\n",
        "# 시작점과 도착점 설정\n",
        "start_lat, start_lon = 37.864135, 127.723917  # 남춘천역\n",
        "end_lat, end_lon = 37.881307, 127.730371  # 춘천시청\n",
        "K = node_mapping[ox.distance.nearest_nodes(G, start_lon, start_lat)]\n",
        "end_node = node_mapping[ox.distance.nearest_nodes(G, end_lon, end_lat)]"
      ]
    },
    {
      "cell_type": "code",
      "execution_count": 3,
      "metadata": {
        "id": "pobH3tfDc6DI"
      },
      "outputs": [],
      "source": [
        "# 다익스트라 알고리즘\n",
        "distance = [sys.maxsize] * V\n",
        "visited = [False] * V\n",
        "q = PriorityQueue()\n",
        "\n",
        "#여기 빈 곳 채우기\n",
        "\n",
        "# 최단 경로 복원\n",
        "path = []\n",
        "current = end_node\n",
        "while current != K:\n",
        "    path.append(current)\n",
        "    for prev, value in myList[current]:\n",
        "        if distance[prev] + value == distance[current]:\n",
        "            current = prev\n",
        "            break\n",
        "path.append(K)\n",
        "path.reverse()"
      ]
    },
    {
      "cell_type": "code",
      "execution_count": 4,
      "metadata": {
        "colab": {
          "base_uri": "https://localhost:8080/"
        },
        "id": "lsD04SRBc7rw",
        "outputId": "d19fcfa4-8521-4317-d0ad-326a3efdc5aa"
      },
      "outputs": [
        {
          "name": "stdout",
          "output_type": "stream",
          "text": [
            "최단 경로 거리: 2419.57 m\n",
            "지도가 'shortest_path_map.html'로 저장되었습니다. 브라우저에서 열어보세요!\n"
          ]
        }
      ],
      "source": [
        "# 결과 출력\n",
        "#print(\"최단 경로:\", [reverse_mapping[node] for node in path])\n",
        "print(f\"최단 경로 거리: {distance[end_node]:.2f} m\")\n",
        "\n",
        "# 시각화\n",
        "# Folium 지도 생성\n",
        "start_coords = (start_lat, start_lon)\n",
        "m = folium.Map(location=start_coords, zoom_start=14)\n",
        "\n",
        "# 최단 경로의 좌표 추출\n",
        "route_coords = [(G.nodes[reverse_mapping[node]][\"y\"], G.nodes[reverse_mapping[node]][\"x\"]) for node in path]\n",
        "\n",
        "# 경로를 지도에 추가\n",
        "folium.PolyLine(route_coords, color=\"blue\", weight=5, opacity=0.7).add_to(m)\n",
        "\n",
        "# 시작점과 끝점 마커 추가\n",
        "folium.Marker(location=(G.nodes[reverse_mapping[K]][\"y\"], G.nodes[reverse_mapping[K]][\"x\"]), popup=\"Start\", icon=folium.Icon(color=\"green\")).add_to(m)\n",
        "folium.Marker(location=(G.nodes[reverse_mapping[end_node]][\"y\"], G.nodes[reverse_mapping[end_node]][\"x\"]), popup=\"End\", icon=folium.Icon(color=\"red\")).add_to(m)\n",
        "\n",
        "# 지도 저장 및 출력\n",
        "m.save(\"shortest_path_map.html\")\n",
        "print(\"지도가 'shortest_path_map.html'로 저장되었습니다. 브라우저에서 열어보세요!\")\n"
      ]
    }
  ],
  "metadata": {
    "colab": {
      "provenance": []
    },
    "kernelspec": {
      "display_name": "Python 3",
      "name": "python3"
    },
    "language_info": {
      "codemirror_mode": {
        "name": "ipython",
        "version": 3
      },
      "file_extension": ".py",
      "mimetype": "text/x-python",
      "name": "python",
      "nbconvert_exporter": "python",
      "pygments_lexer": "ipython3",
      "version": "3.11.0"
    }
  },
  "nbformat": 4,
  "nbformat_minor": 0
}
