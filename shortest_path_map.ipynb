{
  "cells": [
    {
      "cell_type": "code",
      "execution_count": 1,
      "metadata": {
        "colab": {
          "base_uri": "https://localhost:8080/"
        },
        "id": "H9OHO5IHYU-H",
        "outputId": "62ffa0f3-52ee-4fe7-df07-36f7d2c71930"
      },
      "outputs": [
        {
          "name": "stdout",
          "output_type": "stream",
          "text": [
            "Collecting osmnx\n",
            "  Downloading osmnx-2.0.0-py3-none-any.whl.metadata (4.8 kB)\n",
            "Requirement already satisfied: geopandas>=1.0 in /usr/local/lib/python3.10/dist-packages (from osmnx) (1.0.1)\n",
            "Requirement already satisfied: networkx>=2.5 in /usr/local/lib/python3.10/dist-packages (from osmnx) (3.4.2)\n",
            "Requirement already satisfied: numpy>=1.22 in /usr/local/lib/python3.10/dist-packages (from osmnx) (1.26.4)\n",
            "Requirement already satisfied: pandas>=1.4 in /usr/local/lib/python3.10/dist-packages (from osmnx) (2.2.2)\n",
            "Requirement already satisfied: requests>=2.27 in /usr/local/lib/python3.10/dist-packages (from osmnx) (2.32.3)\n",
            "Requirement already satisfied: shapely>=2.0 in /usr/local/lib/python3.10/dist-packages (from osmnx) (2.0.6)\n",
            "Requirement already satisfied: pyogrio>=0.7.2 in /usr/local/lib/python3.10/dist-packages (from geopandas>=1.0->osmnx) (0.10.0)\n",
            "Requirement already satisfied: packaging in /usr/local/lib/python3.10/dist-packages (from geopandas>=1.0->osmnx) (24.2)\n",
            "Requirement already satisfied: pyproj>=3.3.0 in /usr/local/lib/python3.10/dist-packages (from geopandas>=1.0->osmnx) (3.7.0)\n",
            "Requirement already satisfied: python-dateutil>=2.8.2 in /usr/local/lib/python3.10/dist-packages (from pandas>=1.4->osmnx) (2.8.2)\n",
            "Requirement already satisfied: pytz>=2020.1 in /usr/local/lib/python3.10/dist-packages (from pandas>=1.4->osmnx) (2024.2)\n",
            "Requirement already satisfied: tzdata>=2022.7 in /usr/local/lib/python3.10/dist-packages (from pandas>=1.4->osmnx) (2024.2)\n",
            "Requirement already satisfied: charset-normalizer<4,>=2 in /usr/local/lib/python3.10/dist-packages (from requests>=2.27->osmnx) (3.4.0)\n",
            "Requirement already satisfied: idna<4,>=2.5 in /usr/local/lib/python3.10/dist-packages (from requests>=2.27->osmnx) (3.10)\n",
            "Requirement already satisfied: urllib3<3,>=1.21.1 in /usr/local/lib/python3.10/dist-packages (from requests>=2.27->osmnx) (2.2.3)\n",
            "Requirement already satisfied: certifi>=2017.4.17 in /usr/local/lib/python3.10/dist-packages (from requests>=2.27->osmnx) (2024.12.14)\n",
            "Requirement already satisfied: six>=1.5 in /usr/local/lib/python3.10/dist-packages (from python-dateutil>=2.8.2->pandas>=1.4->osmnx) (1.17.0)\n",
            "Downloading osmnx-2.0.0-py3-none-any.whl (99 kB)\n",
            "\u001b[2K   \u001b[90m━━━━━━━━━━━━━━━━━━━━━━━━━━━━━━━━━━━━━━━━\u001b[0m \u001b[32m99.4/99.4 kB\u001b[0m \u001b[31m2.9 MB/s\u001b[0m eta \u001b[36m0:00:00\u001b[0m\n",
            "\u001b[?25hInstalling collected packages: osmnx\n",
            "Successfully installed osmnx-2.0.0\n"
          ]
        }
      ],
      "source": [
        "!pip install osmnx"
      ]
    },
    {
      "cell_type": "code",
      "execution_count": 2,
      "metadata": {
        "id": "JvxpsnUzYi8t"
      },
      "outputs": [],
      "source": [
        "import osmnx as ox\n",
        "import sys\n",
        "from queue import PriorityQueue\n",
        "import folium\n",
        "\n",
        "# 춘천의 도로 네트워크 데이터를 가져오기\n",
        "location = \"Chuncheon, South Korea\"\n",
        "G = ox.graph_from_place(location, network_type=\"drive\")\n",
        "\n",
        "# 인접 리스트 형태로 그래프 변환\n",
        "V = len(G.nodes)\n",
        "node_mapping = {node: idx for idx, node in enumerate(G.nodes)}\n",
        "reverse_mapping = {idx: node for node, idx in node_mapping.items()}\n",
        "\n",
        "myList = [[] for _ in range(V)]\n",
        "for u, v, data in G.edges(data=True):\n",
        "    weight = data.get(\"length\", 1)  # 거리 또는 가중치\n",
        "    myList[node_mapping[u]].append((node_mapping[v], weight))\n",
        "    myList[node_mapping[v]].append((node_mapping[u], weight))  # 양방향 그래프\n",
        "\n",
        "# 시작점과 도착점 설정\n",
        "start_lat, start_lon = 37.864135, 127.723917  # 남춘천역\n",
        "end_lat, end_lon = 37.881307, 127.730371  # 춘천시청\n",
        "K = node_mapping[ox.distance.nearest_nodes(G, start_lon, start_lat)]\n",
        "end_node = node_mapping[ox.distance.nearest_nodes(G, end_lon, end_lat)]"
      ]
    },
    {
      "cell_type": "code",
      "execution_count": 3,
      "metadata": {
        "id": "hdvAdcAjYjIL"
      },
      "outputs": [],
      "source": [
        "# 다익스트라 알고리즘\n",
        "distance = [sys.maxsize] * V\n",
        "visited = [False] * V\n",
        "q = PriorityQueue()\n",
        "\n",
        "#여기 빈 곳 채우기\n",
        "q.put((0, K))  # K를 시작점으로 설정\n",
        "distance[K] = 0\n",
        "while q.qsize() > 0:\n",
        "    current = q.get()\n",
        "    c_v = current[1]\n",
        "    if visited[c_v]:\n",
        "        continue\n",
        "    visited[c_v] = True\n",
        "    for tmp in myList[c_v]:\n",
        "        next = tmp[0]\n",
        "        value = tmp[1]\n",
        "        if distance[next] > distance[c_v] + value:  # 최소 거리로 업데이트\n",
        "            distance[next] = distance[c_v] + value\n",
        "            q.put((distance[next], next))\n",
        "\n",
        "# 최단 경로 복원\n",
        "path = []\n",
        "current = end_node\n",
        "while current != K:\n",
        "    path.append(current)\n",
        "    for prev, value in myList[current]:\n",
        "        if distance[prev] + value == distance[current]:\n",
        "            current = prev\n",
        "            break\n",
        "path.append(K)\n",
        "path.reverse()"
      ]
    },
    {
      "cell_type": "code",
      "execution_count": 4,
      "metadata": {
        "colab": {
          "base_uri": "https://localhost:8080/"
        },
        "id": "ZzZkNqWuYjR6",
        "outputId": "b7831514-cf6d-4441-dbb6-ebbd7fb22b08"
      },
      "outputs": [
        {
          "name": "stdout",
          "output_type": "stream",
          "text": [
            "최단 경로 거리: 2419.57 m\n",
            "지도가 'shortest_path_map.html'로 저장되었습니다. 브라우저에서 열어보세요!\n"
          ]
        }
      ],
      "source": [
        "# 결과 출력\n",
        "#print(\"최단 경로:\", [reverse_mapping[node] for node in path])\n",
        "print(f\"최단 경로 거리: {distance[end_node]:.2f} m\")\n",
        "\n",
        "# 시각화\n",
        "# Folium 지도 생성\n",
        "start_coords = (start_lat, start_lon)\n",
        "m = folium.Map(location=start_coords, zoom_start=14)\n",
        "\n",
        "# 최단 경로의 좌표 추출\n",
        "route_coords = [(G.nodes[reverse_mapping[node]][\"y\"], G.nodes[reverse_mapping[node]][\"x\"]) for node in path]\n",
        "\n",
        "# 경로를 지도에 추가\n",
        "folium.PolyLine(route_coords, color=\"blue\", weight=5, opacity=0.7).add_to(m)\n",
        "\n",
        "# 시작점과 끝점 마커 추가\n",
        "folium.Marker(location=(G.nodes[reverse_mapping[K]][\"y\"], G.nodes[reverse_mapping[K]][\"x\"]), popup=\"Start\", icon=folium.Icon(color=\"green\")).add_to(m)\n",
        "folium.Marker(location=(G.nodes[reverse_mapping[end_node]][\"y\"], G.nodes[reverse_mapping[end_node]][\"x\"]), popup=\"End\", icon=folium.Icon(color=\"red\")).add_to(m)\n",
        "\n",
        "# 지도 저장 및 출력\n",
        "m.save(\"shortest_path_map.html\")\n",
        "print(\"지도가 'shortest_path_map.html'로 저장되었습니다. 브라우저에서 열어보세요!\")\n"
      ]
    },
    {
      "cell_type": "code",
      "execution_count": null,
      "metadata": {
        "id": "Grr2vBWIYjcH"
      },
      "outputs": [],
      "source": []
    }
  ],
  "metadata": {
    "colab": {
      "provenance": []
    },
    "kernelspec": {
      "display_name": "Python 3",
      "name": "python3"
    },
    "language_info": {
      "name": "python",
      "version": "3.11.0"
    }
  },
  "nbformat": 4,
  "nbformat_minor": 0
}
